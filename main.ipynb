{
 "cells": [
  {
   "cell_type": "markdown",
   "metadata": {},
   "source": [
    "# Deep Learning Project\n",
    "## Istanbul Technical University\n",
    "### Computer Engineering Department\n",
    "### BLG 527E - Deep Learning\n",
    "### Fall 2023\n",
    "\n",
    "<b>Student Name: Muhammed Rüşen Birben</b><br>\n",
    "<b>Student ID: 150220755</b><br>\n",
    "<b>Student Email: birben20@itu.edu.tr</b><br>\n",
    "\n",
    "<b>Student Name: Ahmed Burak Ercan</b><br>\n",
    "<b>Student ID: 150220749</b><br>\n",
    "<b>Student Email: ercana20@itu.edu.tr</b><br>"
   ]
  },
  {
   "cell_type": "code",
   "execution_count": 38,
   "metadata": {},
   "outputs": [],
   "source": [
    "from transformers import AutoTokenizer, AutoModelForSequenceClassification, Trainer, TrainingArguments\n",
    "from os import makedirs\n",
    "import pandas as pd\n",
    "import numpy as np\n",
    "import matplotlib.pyplot as plt\n",
    "import torch.nn.functional as F\n",
    "import torch\n",
    "from sklearn.model_selection import train_test_split\n",
    "from torch.utils.data import Dataset\n",
    "from sklearn.metrics import classification_report, confusion_matrix\n",
    "from sklearn.metrics import f1_score, precision_score, recall_score, accuracy_score\n",
    "from importlib import reload\n",
    "import matplotlib.pyplot as plt\n",
    "import seaborn as sns\n",
    "# custom modules\n",
    "import Scripts.utils\n",
    "import Scripts.model\n",
    "# Reloading custom modules, for production purposes\n",
    "reload(Scripts.utils)\n",
    "reload(Scripts.model)\n",
    "from Scripts.utils import get_model, model_predict, eval_model\n",
    "from Scripts.model import TextDataset"
   ]
  },
  {
   "cell_type": "markdown",
   "metadata": {},
   "source": [
    "### Loading the Data"
   ]
  },
  {
   "cell_type": "code",
   "execution_count": 29,
   "metadata": {},
   "outputs": [
    {
     "data": {
      "text/html": [
       "<div>\n",
       "<style scoped>\n",
       "    .dataframe tbody tr th:only-of-type {\n",
       "        vertical-align: middle;\n",
       "    }\n",
       "\n",
       "    .dataframe tbody tr th {\n",
       "        vertical-align: top;\n",
       "    }\n",
       "\n",
       "    .dataframe thead th {\n",
       "        text-align: right;\n",
       "    }\n",
       "</style>\n",
       "<table border=\"1\" class=\"dataframe\">\n",
       "  <thead>\n",
       "    <tr style=\"text-align: right;\">\n",
       "      <th></th>\n",
       "      <th>Source</th>\n",
       "      <th>Text</th>\n",
       "      <th>IsAI</th>\n",
       "    </tr>\n",
       "  </thead>\n",
       "  <tbody>\n",
       "    <tr>\n",
       "      <th>0</th>\n",
       "      <td>LLM</td>\n",
       "      <td>Have you ever heard of the Crusades? A time in...</td>\n",
       "      <td>1</td>\n",
       "    </tr>\n",
       "    <tr>\n",
       "      <th>1</th>\n",
       "      <td>LLM</td>\n",
       "      <td>The professors, who likely have nearly a decad...</td>\n",
       "      <td>1</td>\n",
       "    </tr>\n",
       "    <tr>\n",
       "      <th>2</th>\n",
       "      <td>LLM</td>\n",
       "      <td>Kemba Walker does a good job of defending Foye...</td>\n",
       "      <td>1</td>\n",
       "    </tr>\n",
       "    <tr>\n",
       "      <th>3</th>\n",
       "      <td>LLM</td>\n",
       "      <td>Ganias' lawyer, Stanley Twardy, urged the gove...</td>\n",
       "      <td>1</td>\n",
       "    </tr>\n",
       "    <tr>\n",
       "      <th>4</th>\n",
       "      <td>LLM</td>\n",
       "      <td>The Circuit Court of Appeals of New Jersey had...</td>\n",
       "      <td>0</td>\n",
       "    </tr>\n",
       "  </tbody>\n",
       "</table>\n",
       "</div>"
      ],
      "text/plain": [
       "  Source                                               Text  IsAI\n",
       "0    LLM  Have you ever heard of the Crusades? A time in...     1\n",
       "1    LLM  The professors, who likely have nearly a decad...     1\n",
       "2    LLM  Kemba Walker does a good job of defending Foye...     1\n",
       "3    LLM  Ganias' lawyer, Stanley Twardy, urged the gove...     1\n",
       "4    LLM  The Circuit Court of Appeals of New Jersey had...     0"
      ]
     },
     "execution_count": 29,
     "metadata": {},
     "output_type": "execute_result"
    }
   ],
   "source": [
    "# Reading the data.\n",
    "df = pd.read_csv('Data/datasetV2.csv')\n",
    "df.head()"
   ]
  },
  {
   "cell_type": "code",
   "execution_count": 30,
   "metadata": {},
   "outputs": [],
   "source": [
    "# Splitting the DataFrame into train and remaining datasets\n",
    "# get a portion of the dataset\n",
    "df = df.sample(frac=0.1, random_state=42)\n",
    "df = df[:1000] # might increase this later\n",
    "\n",
    "# Splitting the DataFrame into train and validation and test datasets\n",
    "train_df, test_df = train_test_split(df, test_size=0.2, random_state=42)\n",
    "train_df, val_df = train_test_split(train_df, test_size=0.2, random_state=42)\n",
    "\n"
   ]
  },
  {
   "cell_type": "markdown",
   "metadata": {},
   "source": [
    "### Model Development"
   ]
  },
  {
   "cell_type": "code",
   "execution_count": 31,
   "metadata": {},
   "outputs": [
    {
     "name": "stdout",
     "output_type": "stream",
     "text": [
      "Model already exists, loading...\n"
     ]
    }
   ],
   "source": [
    "# setting up three models\n",
    "model_names = [\"roberta-base-openai-detector\"]\n",
    "models = dict()\n",
    "model_tokenizers = dict()\n",
    "\n",
    "for model_name in model_names:\n",
    "    models[model_name], model_tokenizers[model_name] = get_model(model_name)"
   ]
  },
  {
   "cell_type": "markdown",
   "metadata": {},
   "source": [
    "testing the out-of-the-box models on the dataset"
   ]
  },
  {
   "cell_type": "code",
   "execution_count": 32,
   "metadata": {},
   "outputs": [
    {
     "name": "stdout",
     "output_type": "stream",
     "text": [
      "roberta-base-openai-detector\n"
     ]
    },
    {
     "name": "stderr",
     "output_type": "stream",
     "text": [
      "100%|██████████| 2/2 [00:11<00:00,  5.64s/it]"
     ]
    },
    {
     "name": "stdout",
     "output_type": "stream",
     "text": [
      "Accuracy: 67.50%\n",
      "Recall: 67.73%\n",
      "Precision: 67.60%\n",
      "F1-score: 67.46%\n"
     ]
    },
    {
     "name": "stderr",
     "output_type": "stream",
     "text": [
      "\n"
     ]
    }
   ],
   "source": [
    "# test all three models on the same data\n",
    "model_confusion_matrices = {}\n",
    "\n",
    "for model_name in model_names:\n",
    "    print(model_name)\n",
    "    predictions = model_predict(models[model_name], model_tokenizers[model_name], test_df['Text'].tolist())\n",
    "    model_confusion_matrices[model_name] = eval_model(predictions, test_df['IsAI'].tolist())"
   ]
  },
  {
   "cell_type": "markdown",
   "metadata": {},
   "source": [
    "### Fine-Tuning"
   ]
  },
  {
   "cell_type": "markdown",
   "metadata": {},
   "source": [
    "tokenizing the data for each model"
   ]
  },
  {
   "cell_type": "code",
   "execution_count": 34,
   "metadata": {},
   "outputs": [],
   "source": [
    "tokens = list()\n",
    "loaders = list()\n",
    "\n",
    "for model_name in model_names:\n",
    "    train_encodings = model_tokenizers[model_name](train_df['Text'].tolist(), truncation=True, padding=True)\n",
    "    val_encodings = model_tokenizers[model_name](val_df['Text'].tolist(), truncation=True, padding=True)\n",
    "    test_encodings = model_tokenizers[model_name](test_df['Text'].tolist(), truncation=True, padding=True)\n",
    "    tokens.append({'train': train_encodings, 'val': val_encodings, 'test': test_encodings})    \n",
    "    loaders.append({'train': TextDataset(train_encodings, train_df['IsAI'].tolist()), \n",
    "                    'val': TextDataset(val_encodings, val_df['IsAI'].tolist()), \n",
    "                    'test': TextDataset(test_encodings, test_df['IsAI'].tolist())})"
   ]
  },
  {
   "cell_type": "code",
   "execution_count": 35,
   "metadata": {},
   "outputs": [
    {
     "name": "stderr",
     "output_type": "stream",
     "text": [
      " 37%|███▋      | 392/1050 [1:59:10<3:20:01, 18.24s/it]\n",
      " 10%|█         | 100/960 [00:30<04:18,  3.33it/s]"
     ]
    },
    {
     "name": "stdout",
     "output_type": "stream",
     "text": [
      "{'loss': 0.8121, 'learning_rate': 1e-05, 'epoch': 0.31}\n"
     ]
    },
    {
     "name": "stderr",
     "output_type": "stream",
     "text": [
      " 21%|██        | 200/960 [01:00<03:47,  3.35it/s]"
     ]
    },
    {
     "name": "stdout",
     "output_type": "stream",
     "text": [
      "{'loss': 0.5318, 'learning_rate': 2e-05, 'epoch': 0.62}\n"
     ]
    },
    {
     "name": "stderr",
     "output_type": "stream",
     "text": [
      " 31%|███▏      | 300/960 [01:30<03:17,  3.35it/s]"
     ]
    },
    {
     "name": "stdout",
     "output_type": "stream",
     "text": [
      "{'loss': 0.504, 'learning_rate': 3e-05, 'epoch': 0.94}\n"
     ]
    },
    {
     "name": "stderr",
     "output_type": "stream",
     "text": [
      " 33%|███▎      | 320/960 [01:36<03:12,  3.33it/s]\n",
      " 33%|███▎      | 320/960 [01:39<03:12,  3.33it/s]"
     ]
    },
    {
     "name": "stdout",
     "output_type": "stream",
     "text": [
      "{'eval_loss': 0.2555827498435974, 'eval_runtime': 3.321, 'eval_samples_per_second': 48.178, 'eval_steps_per_second': 24.089, 'epoch': 1.0}\n"
     ]
    },
    {
     "name": "stderr",
     "output_type": "stream",
     "text": [
      " 42%|████▏     | 400/960 [02:04<02:49,  3.31it/s]"
     ]
    },
    {
     "name": "stdout",
     "output_type": "stream",
     "text": [
      "{'loss': 0.4199, 'learning_rate': 4e-05, 'epoch': 1.25}\n"
     ]
    },
    {
     "name": "stderr",
     "output_type": "stream",
     "text": [
      " 52%|█████▏    | 500/960 [02:34<02:16,  3.36it/s]Checkpoint destination directory ./results/checkpoint-500 already exists and is non-empty.Saving will proceed but saved results may be invalid.\n"
     ]
    },
    {
     "name": "stdout",
     "output_type": "stream",
     "text": [
      "{'loss': 0.307, 'learning_rate': 5e-05, 'epoch': 1.56}\n"
     ]
    },
    {
     "name": "stderr",
     "output_type": "stream",
     "text": [
      " 62%|██████▎   | 600/960 [03:06<01:48,  3.32it/s]"
     ]
    },
    {
     "name": "stdout",
     "output_type": "stream",
     "text": [
      "{'loss': 0.3697, 'learning_rate': 3.91304347826087e-05, 'epoch': 1.88}\n"
     ]
    },
    {
     "name": "stderr",
     "output_type": "stream",
     "text": [
      " 67%|██████▋   | 640/960 [03:18<01:36,  3.33it/s]\n",
      " 67%|██████▋   | 640/960 [03:21<01:36,  3.33it/s]"
     ]
    },
    {
     "name": "stdout",
     "output_type": "stream",
     "text": [
      "{'eval_loss': 0.3357124924659729, 'eval_runtime': 3.1756, 'eval_samples_per_second': 50.385, 'eval_steps_per_second': 25.192, 'epoch': 2.0}\n"
     ]
    },
    {
     "name": "stderr",
     "output_type": "stream",
     "text": [
      " 73%|███████▎  | 700/960 [03:39<01:26,  3.00it/s]"
     ]
    },
    {
     "name": "stdout",
     "output_type": "stream",
     "text": [
      "{'loss': 0.2804, 'learning_rate': 2.826086956521739e-05, 'epoch': 2.19}\n"
     ]
    },
    {
     "name": "stderr",
     "output_type": "stream",
     "text": [
      " 83%|████████▎ | 800/960 [04:11<00:51,  3.08it/s]"
     ]
    },
    {
     "name": "stdout",
     "output_type": "stream",
     "text": [
      "{'loss': 0.1156, 'learning_rate': 1.739130434782609e-05, 'epoch': 2.5}\n"
     ]
    },
    {
     "name": "stderr",
     "output_type": "stream",
     "text": [
      " 94%|█████████▍| 900/960 [04:42<00:20,  2.90it/s]"
     ]
    },
    {
     "name": "stdout",
     "output_type": "stream",
     "text": [
      "{'loss': 0.039, 'learning_rate': 6.521739130434783e-06, 'epoch': 2.81}\n"
     ]
    },
    {
     "name": "stderr",
     "output_type": "stream",
     "text": [
      "100%|██████████| 960/960 [05:02<00:00,  3.14it/s]\n",
      "100%|██████████| 960/960 [05:06<00:00,  3.14it/s]\n"
     ]
    },
    {
     "name": "stdout",
     "output_type": "stream",
     "text": [
      "{'eval_loss': 0.3998672366142273, 'eval_runtime': 3.536, 'eval_samples_per_second': 45.249, 'eval_steps_per_second': 22.625, 'epoch': 3.0}\n",
      "{'train_runtime': 306.1129, 'train_samples_per_second': 6.272, 'train_steps_per_second': 3.136, 'train_loss': 0.3550250249604384, 'epoch': 3.0}\n",
      "Evaluation of the model: roberta-base-openai-detector\n"
     ]
    },
    {
     "name": "stderr",
     "output_type": "stream",
     "text": [
      "100%|██████████| 100/100 [00:05<00:00, 17.59it/s]\n"
     ]
    },
    {
     "name": "stdout",
     "output_type": "stream",
     "text": [
      "Accuracy: 89.00%\n",
      "Recall: 89.36%\n",
      "Precision: 89.05%\n",
      "F1-score: 88.98%\n"
     ]
    }
   ],
   "source": [
    "fine_tuned_model_confusion_matrices = {}\n",
    "model_scores = {}\n",
    "\n",
    "# Define training arguments\n",
    "for i in range(len(model_names)):\n",
    "    training_args = TrainingArguments(\n",
    "        output_dir=\"./results\",          # output directory\n",
    "        num_train_epochs=3,              # total number of training epochs\n",
    "        per_device_train_batch_size=2,   # batch size per device during training\n",
    "        per_device_eval_batch_size=2,    # batch size for evaluation\n",
    "        warmup_steps=500,                # number of warmup steps for learning rate scheduler\n",
    "        weight_decay=0.02,               # strength of weight decay\n",
    "        logging_dir='./logs',            # directory for storing logs\n",
    "        logging_steps=300,\n",
    "        evaluation_strategy=\"epoch\"      # evaluate each `logging_steps`\n",
    "    )\n",
    "\n",
    "    # Initialize Trainer\n",
    "    trainer = Trainer(\n",
    "        model=models[model_names[i]],        # the instantiated Transformers model to be trained\n",
    "        args=training_args,                  # training arguments, defined above\n",
    "        train_dataset=loaders[i]['train'],         # training dataset\n",
    "        eval_dataset=loaders[i]['val']             # evaluation dataset\n",
    "    )\n",
    "\n",
    "    # Train and evaluate\n",
    "    trainer.train()\n",
    "\n",
    "    # Evaluate on test set\n",
    "\n",
    "    print(f\"Evaluation of the model: {model_names[i]}\")\n",
    "\n",
    "    predictions = trainer.predict(loaders[i]['test'])\n",
    "    predictions = np.argmax(predictions.predictions, axis=-1)\n",
    "    fine_tuned_model_confusion_matrices[model_names[i]], scores = eval_model(predictions, test_df['IsAI'].tolist(), return_scores=True)\n",
    "    model_scores[model_names[i]] = {k: v for k, v in scores.items() if k in ['accuracy', 'f1-score', 'precision', 'recall']}\n",
    "    print()\n",
    "\n",
    "    # Save the model\n",
    "    trainer.save_model(f\"Models/fine_tuned/{model_names[i]}\")"
   ]
  },
  {
   "cell_type": "markdown",
   "metadata": {},
   "source": [
    "### Visualizing the Results"
   ]
  },
  {
   "cell_type": "markdown",
   "metadata": {},
   "source": [
    "confusion matrix for each model before and after fine-tuning"
   ]
  },
  {
   "cell_type": "code",
   "execution_count": 60,
   "metadata": {},
   "outputs": [
    {
     "data": {
      "image/png": "[encoded data removed]",
      "text/plain": [
       "<Figure size 1080x720 with 8 Axes>"
      ]
     },
     "metadata": {},
     "output_type": "display_data"
    }
   ],
   "source": [
    "fig, ax = plt.subplots(2, 3, figsize=(15, 10))\n",
    "fig.suptitle('Confusion matrices of the models', fontsize=18, fontweight='bold', color='#999999')\n",
    "fig.set_facecolor('#703030')\n",
    "for i in range(len(model_names)):\n",
    "    sns.heatmap(model_confusion_matrices[model_names[i]], annot=True, ax=ax[0][i], annot_kws={\"size\": 16})\n",
    "    ax[0][i].set_title(model_names[i], fontweight='bold', fontsize=14, color='#999999')\n",
    "    sns.heatmap(fine_tuned_model_confusion_matrices[model_names[i]], annot=True, ax=ax[1][i], annot_kws={\"size\": 16})\n",
    "    ax[1][i].set_title(model_names[i] + '\\n fine-tuned', fontweight='bold', fontsize=14, color='#999999')\n",
    "\n",
    "    # change x and y labels. map 0 to 'human' and 1 to 'AI'\n",
    "    ax[0][i].set_xticklabels(['human', 'AI'], fontweight='bold', fontsize=12, color='white')\n",
    "    ax[0][i].set_yticklabels(['human', 'AI'], fontweight='bold', fontsize=12, color='white')\n",
    "    ax[1][i].set_xticklabels(['human', 'AI'], fontweight='bold', fontsize=12, color='white')\n",
    "    ax[1][i].set_yticklabels(['human', 'AI'], fontweight='bold', fontsize=12, color='white')\n",
    "\n",
    "plt.tight_layout()\n",
    "plt.show()"
   ]
  },
  {
   "cell_type": "code",
   "execution_count": null,
   "metadata": {},
   "outputs": [],
   "source": []
  }
 ],
 "metadata": {
  "kernelspec": {
   "display_name": "machine_learning",
   "language": "python",
   "name": "python3"
  },
  "language_info": {
   "codemirror_mode": {
    "name": "ipython",
    "version": 3
   },
   "file_extension": ".py",
   "mimetype": "text/x-python",
   "name": "python",
   "nbconvert_exporter": "python",
   "pygments_lexer": "ipython3",
   "version": "3.10.13"
  }
 },
 "nbformat": 4,
 "nbformat_minor": 2
}
